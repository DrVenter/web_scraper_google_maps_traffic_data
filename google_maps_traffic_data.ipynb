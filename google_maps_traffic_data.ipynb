{
 "cells": [
  {
   "cell_type": "markdown",
   "metadata": {},
   "source": [
    "# Google Maps Traffic Data"
   ]
  },
  {
   "cell_type": "code",
   "execution_count": 25,
   "metadata": {},
   "outputs": [],
   "source": [
    "import requests\n",
    "from bs4 import BeautifulSoup\n",
    "\n",
    "import numpy as np\n",
    "import pandas as pd\n",
    "\n",
    "import time\n",
    "import random\n",
    "import math\n",
    "import datetime"
   ]
  },
  {
   "cell_type": "markdown",
   "metadata": {},
   "source": [
    "## Generate Random Data Points from Specific Location"
   ]
  },
  {
   "cell_type": "markdown",
   "metadata": {},
   "source": [
    "### Measure the Distance Between Two Points"
   ]
  },
  {
   "cell_type": "code",
   "execution_count": 26,
   "metadata": {},
   "outputs": [
    {
     "data": {
      "text/plain": [
       "21.80565904852594"
      ]
     },
     "execution_count": 26,
     "metadata": {},
     "output_type": "execute_result"
    }
   ],
   "source": [
    "point_A = \"-29.60017332074011, 30.379163164887483\".replace(\" \", \"\").split(\",\")\n",
    "point_B = \"-29.488765110829252, 30.215741548444527\".replace(\" \", \"\").split(\",\")\n",
    "\n",
    "point_A = list(map(float, point_A))\n",
    "point_B = list(map(float, point_B))\n",
    "\n",
    "latitude = 0\n",
    "longitude = 1\n",
    "\n",
    "approximate_distance_per_degree = 110.25\n",
    "#use Euclidean distance\n",
    "distance_between = math.sqrt((point_A[latitude]- point_B[latitude])**2 + (point_A[longitude] - point_B[longitude])**2) * approximate_distance_per_degree\n",
    "distance_between"
   ]
  },
  {
   "cell_type": "markdown",
   "metadata": {},
   "source": [
    "### Determine the Approximate Range of Random Coordinates"
   ]
  },
  {
   "cell_type": "code",
   "execution_count": 27,
   "metadata": {},
   "outputs": [
    {
     "data": {
      "text/plain": [
       "0.45351473922902485"
      ]
     },
     "execution_count": 27,
     "metadata": {},
     "output_type": "execute_result"
    }
   ],
   "source": [
    "distance = 50.0\n",
    "point = point_A\n",
    "\n",
    "#assume latitude is the same i.e. on a straight line\n",
    "range_value = (distance / approximate_distance_per_degree) + point[longitude] - point[longitude]\n",
    "range_value"
   ]
  },
  {
   "cell_type": "markdown",
   "metadata": {},
   "source": [
    "### Create Random Coordintates"
   ]
  },
  {
   "cell_type": "markdown",
   "metadata": {},
   "source": [
    "johannesburg = [-26.207201909503596, 28.04650823914504]\n",
    "pietermartizburg = [-29.6004500675832, 30.378738192502244]\n",
    "points = [johannesburg, pietermartizburg]"
   ]
  },
  {
   "cell_type": "markdown",
   "metadata": {},
   "source": [
    "def create_random_coordinates(coordinates):\n",
    "    random_coordinates = coordinates.copy()\n",
    "    for coordinate in range(len(coordinates)):\n",
    "        random_coordinates[coordinate] = random.uniform(random_coordinates[coordinate] - range_value, random_coordinates[coordinate] + range_value)\n",
    "\n",
    "    return random_coordinates\n",
    "\n",
    "def create_list_of_random_coordinates(coordinate_point):\n",
    "    random_coordinates = list(range(50))\n",
    "    for coordinate in random_coordinates:\n",
    "        random_coordinates[coordinate] = create_random_coordinates(coordinate_point)\n",
    "    \n",
    "    return random_coordinates\n",
    "\n",
    "def save_coordinates_to_file(coordinates):\n",
    "    coordinate_string = []\n",
    "    point_name = str(point[0]) + \",\" + str(point[1])\n",
    "    for coordinate in random_coordinates:\n",
    "        coordinates = str(coordinate[0]) + \",\" + str(coordinate[1])\n",
    "        coordinate_string.append(coordinates)\n",
    "\n",
    "    coordinate_string = \"\\n\".join(coordinate_string)\n",
    "    coordinate_string = f\"from:{point_name}\\n\" + coordinate_string\n",
    "    \n",
    "    text_file = open(f\"random_coordinates_from{point_name}.txt\", \"x\")\n",
    "    text_file.write(coordinate_string)\n",
    "    text_file.close()\n",
    "\n",
    "for point in points:\n",
    "    random_coordinates = create_list_of_random_coordinates(point)\n",
    "    save_coordinates_to_file(random_coordinates)\n",
    "\n"
   ]
  },
  {
   "cell_type": "markdown",
   "metadata": {},
   "source": [
    "## Scrape Data"
   ]
  },
  {
   "cell_type": "markdown",
   "metadata": {},
   "source": [
    "### Create Database Template"
   ]
  },
  {
   "cell_type": "markdown",
   "metadata": {},
   "source": [
    "database_columns = pd.DataFrame([[\"Date\", \"Hour\", \"From (Coordinates)\", \"To (Coordinates)\", \"Distance\", \"Time (Usual)\", \"Time (Now)\", \"Time (Range)\"]])\n",
    "database_columns.to_csv(\"google_maps_traffic_data.csv\", index=False, header=False)"
   ]
  },
  {
   "cell_type": "markdown",
   "metadata": {},
   "source": [
    "database = pd.read_csv(\"google_maps_traffic_data.csv\")\n",
    "data_columns = database.columns"
   ]
  },
  {
   "cell_type": "markdown",
   "metadata": {},
   "source": [
    "### Scrape Data"
   ]
  },
  {
   "cell_type": "code",
   "execution_count": 33,
   "metadata": {},
   "outputs": [
    {
     "name": "stdout",
     "output_type": "stream",
     "text": [
      "Scraper Started\n",
      "Completed:  ['2022-07-23', '16', '-26.207201909503596,28.04650823914504', '-26.0446397405829,27.80426232604286', None, None, None, None]\n",
      "Completed:  ['2022-07-23', '16', '-26.207201909503596,28.04650823914504', '-26.49133840153267,27.795880438852187', None, None, None, None]\n",
      "Completed:  ['2022-07-23', '16', '-26.207201909503596,28.04650823914504', '-26.012346963578064,27.853247845273337', None, None, None, None]\n"
     ]
    },
    {
     "ename": "KeyboardInterrupt",
     "evalue": "",
     "output_type": "error",
     "traceback": [
      "\u001b[1;31m---------------------------------------------------------------------------\u001b[0m",
      "\u001b[1;31mKeyboardInterrupt\u001b[0m                         Traceback (most recent call last)",
      "\u001b[1;32mc:\\Users\\vente\\OneDrive\\Documents\\Code\\web_scraper_google_maps\\google_maps_traffic_data.ipynb Cell 16\u001b[0m in \u001b[0;36m<cell line: 9>\u001b[1;34m()\u001b[0m\n\u001b[0;32m     <a href='vscode-notebook-cell:/c%3A/Users/vente/OneDrive/Documents/Code/web_scraper_google_maps/google_maps_traffic_data.ipynb#ch0000024?line=49'>50</a>\u001b[0m             \u001b[39mprint\u001b[39m(\u001b[39m\"\u001b[39m\u001b[39mCompleted: \u001b[39m\u001b[39m\"\u001b[39m, row)\n\u001b[0;32m     <a href='vscode-notebook-cell:/c%3A/Users/vente/OneDrive/Documents/Code/web_scraper_google_maps/google_maps_traffic_data.ipynb#ch0000024?line=50'>51</a>\u001b[0m             wait_time_seconds \u001b[39m=\u001b[39m random\u001b[39m.\u001b[39mrandrange(\u001b[39m10\u001b[39m, \u001b[39m30\u001b[39m)\n\u001b[1;32m---> <a href='vscode-notebook-cell:/c%3A/Users/vente/OneDrive/Documents/Code/web_scraper_google_maps/google_maps_traffic_data.ipynb#ch0000024?line=51'>52</a>\u001b[0m             time\u001b[39m.\u001b[39;49msleep(wait_time_seconds)\n\u001b[0;32m     <a href='vscode-notebook-cell:/c%3A/Users/vente/OneDrive/Documents/Code/web_scraper_google_maps/google_maps_traffic_data.ipynb#ch0000024?line=52'>53</a>\u001b[0m     from_location, to_location \u001b[39m=\u001b[39m to_location, from_location\n\u001b[0;32m     <a href='vscode-notebook-cell:/c%3A/Users/vente/OneDrive/Documents/Code/web_scraper_google_maps/google_maps_traffic_data.ipynb#ch0000024?line=53'>54</a>\u001b[0m \u001b[39mprint\u001b[39m(\u001b[39m\"\u001b[39m\u001b[39mCompleted: Text File\u001b[39m\u001b[39m\"\u001b[39m)\n",
      "\u001b[1;31mKeyboardInterrupt\u001b[0m: "
     ]
    }
   ],
   "source": [
    "print(\"Scraper Started\")\n",
    "folder_files = [\n",
    "    r\"C:\\Users\\vente\\OneDrive\\Documents\\Code\\web_scraper_google_maps\\random_coordinates_from-26.207201909503596,28.04650823914504.txt\", \n",
    "    r\"C:\\Users\\vente\\OneDrive\\Documents\\Code\\web_scraper_google_maps\\random_coordinates_from-29.6004500675832,30.378738192502244.txt\"\n",
    "    ]\n",
    "database = pd.read_csv(r\"C:\\Users\\vente\\OneDrive\\Documents\\Code\\web_scraper_google_maps\\google_maps_traffic_data.csv\")\n",
    "data_columns = database.columns\n",
    "\n",
    "for text_file in folder_files:\n",
    "    file = open(text_file)\n",
    "    file = file.read()\n",
    "    file = file.split(\"\\n\")\n",
    "\n",
    "    from_location = [file[0].replace(\"from:\", \"\")]\n",
    "    to_location = file[1:]\n",
    "\n",
    "    root_URL = \"https://www.google.com/maps/dir/\"\n",
    "\n",
    "    for number in range(2):\n",
    "        for from_loc in from_location:\n",
    "            for to_loc in to_location:\n",
    "                URL = root_URL + from_loc + \"/\" + to_loc\n",
    "                page = requests.get(URL) \n",
    "                soup = BeautifulSoup(page.content, \"html.parser\") \n",
    "                date_time = datetime.datetime.now()\n",
    "                date = date_time.strftime(\"%Y-%m-%d\")\n",
    "                hour = date_time.strftime(\"%H\")\n",
    "\n",
    "                soup = str(soup)\n",
    "                distance = soup.find(' km') #the whole script relies on finding this\n",
    "                section = np.array(soup[distance - 200: distance+400].split('\\\\\"'))\n",
    "\n",
    "                unwanted_characters = list(\"[]/\\\\_:\")\n",
    "                for character in unwanted_characters: section = section[np.char.find(section, character) == -1]\n",
    "                unwanted_list_items = list(\", \")\n",
    "                for item in unwanted_characters: section = section[section != \",\"]\n",
    "\n",
    "                try:\n",
    "                    distance  = section[np.char.find(section, \"km\") != -1][0]\n",
    "                    time_no_traffic = section[np.where(section == distance)[0] + 1][0]\n",
    "                    time_traffic = section[np.where(section == distance)[0] + 2][0]\n",
    "                    time_range = section[np.char.find(section, \" - \") != -1][0]\n",
    "                    row = [date, hour, from_loc, to_loc, distance, time_no_traffic, time_traffic, time_range]\n",
    "                except:\n",
    "                    row = [date, hour, from_loc, to_loc, None, None, None, None]\n",
    "                \n",
    "                row_data = pd.DataFrame([row], columns=data_columns)\n",
    "                database = pd.concat([database, row_data])\n",
    "\n",
    "                print(\"Completed: \", row)\n",
    "                wait_time_seconds = random.randrange(5, 10)\n",
    "                time.sleep(wait_time_seconds)\n",
    "        from_location, to_location = to_location, from_location\n",
    "    print(\"Completed: Text File\")\n",
    "\n",
    "database.to_csv(r\"C:\\Users\\vente\\OneDrive\\Documents\\Code\\web_scraper_google_maps\\google_maps_traffic_data.csv\", index=False)\n",
    "print(\"Scaper Finished\")\n"
   ]
  }
 ],
 "metadata": {
  "kernelspec": {
   "display_name": "Python 3.10.4 64-bit",
   "language": "python",
   "name": "python3"
  },
  "language_info": {
   "codemirror_mode": {
    "name": "ipython",
    "version": 3
   },
   "file_extension": ".py",
   "mimetype": "text/x-python",
   "name": "python",
   "nbconvert_exporter": "python",
   "pygments_lexer": "ipython3",
   "version": "3.10.4"
  },
  "orig_nbformat": 4,
  "vscode": {
   "interpreter": {
    "hash": "311724412226088b683ffffa8f56bd226d9eb83eedc73f5fb48200bda608b17b"
   }
  }
 },
 "nbformat": 4,
 "nbformat_minor": 2
}
